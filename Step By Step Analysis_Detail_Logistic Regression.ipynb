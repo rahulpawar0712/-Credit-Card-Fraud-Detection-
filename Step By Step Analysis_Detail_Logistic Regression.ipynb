{
 "cells": [
  {
   "cell_type": "code",
   "execution_count": 86,
   "metadata": {
    "_cell_guid": "b1076dfc-b9ad-4769-8c92-a6c4dae69d19",
    "_uuid": "8f2839f25d086af736a60e9eeb907d3b93b6e0e5"
   },
   "outputs": [
    {
     "name": "stdout",
     "output_type": "stream",
     "text": [
      "/kaggle/input/creditcardfraud/creditcard.csv\n"
     ]
    }
   ],
   "source": [
    "# This Python 3 environment comes with many helpful analytics libraries installed\n",
    "# It is defined by the kaggle/python Docker image: https://github.com/kaggle/docker-python\n",
    "# For example, here's several helpful packages to load\n",
    "\n",
    "import numpy as np # linear algebra\n",
    "import pandas as pd # data processing, CSV file I/O (e.g. pd.read_csv)\n",
    "\n",
    "# Input data files are available in the read-only \"../input/\" directory\n",
    "# For example, running this (by clicking run or pressing Shift+Enter) will list all files under the input directory\n",
    "\n",
    "import os\n",
    "for dirname, _, filenames in os.walk('/kaggle/input'):\n",
    "    for filename in filenames:\n",
    "        print(os.path.join(dirname, filename))\n",
    "\n",
    "# You can write up to 5GB to the current directory (/kaggle/working/) that gets preserved as output when you create a version using \"Save & Run All\" \n",
    "# You can also write temporary files to /kaggle/temp/, but they won't be saved outside of the current session"
   ]
  },
  {
   "cell_type": "code",
   "execution_count": 87,
   "metadata": {
    "_cell_guid": "79c7e3d0-c299-4dcb-8224-4455121ee9b0",
    "_uuid": "d629ff2d2480ee46fbb7e2d37f6b5fab8052498a"
   },
   "outputs": [],
   "source": [
    "df=pd.read_csv('/kaggle/input/creditcardfraud/creditcard.csv')"
   ]
  },
  {
   "cell_type": "code",
   "execution_count": 88,
   "metadata": {},
   "outputs": [
    {
     "data": {
      "text/html": [
       "<div>\n",
       "<style scoped>\n",
       "    .dataframe tbody tr th:only-of-type {\n",
       "        vertical-align: middle;\n",
       "    }\n",
       "\n",
       "    .dataframe tbody tr th {\n",
       "        vertical-align: top;\n",
       "    }\n",
       "\n",
       "    .dataframe thead th {\n",
       "        text-align: right;\n",
       "    }\n",
       "</style>\n",
       "<table border=\"1\" class=\"dataframe\">\n",
       "  <thead>\n",
       "    <tr style=\"text-align: right;\">\n",
       "      <th></th>\n",
       "      <th>Time</th>\n",
       "      <th>V1</th>\n",
       "      <th>V2</th>\n",
       "      <th>V3</th>\n",
       "      <th>V4</th>\n",
       "      <th>V5</th>\n",
       "      <th>V6</th>\n",
       "      <th>V7</th>\n",
       "      <th>V8</th>\n",
       "      <th>V9</th>\n",
       "      <th>...</th>\n",
       "      <th>V21</th>\n",
       "      <th>V22</th>\n",
       "      <th>V23</th>\n",
       "      <th>V24</th>\n",
       "      <th>V25</th>\n",
       "      <th>V26</th>\n",
       "      <th>V27</th>\n",
       "      <th>V28</th>\n",
       "      <th>Amount</th>\n",
       "      <th>Class</th>\n",
       "    </tr>\n",
       "  </thead>\n",
       "  <tbody>\n",
       "    <tr>\n",
       "      <th>0</th>\n",
       "      <td>0.0</td>\n",
       "      <td>-1.359807</td>\n",
       "      <td>-0.072781</td>\n",
       "      <td>2.536347</td>\n",
       "      <td>1.378155</td>\n",
       "      <td>-0.338321</td>\n",
       "      <td>0.462388</td>\n",
       "      <td>0.239599</td>\n",
       "      <td>0.098698</td>\n",
       "      <td>0.363787</td>\n",
       "      <td>...</td>\n",
       "      <td>-0.018307</td>\n",
       "      <td>0.277838</td>\n",
       "      <td>-0.110474</td>\n",
       "      <td>0.066928</td>\n",
       "      <td>0.128539</td>\n",
       "      <td>-0.189115</td>\n",
       "      <td>0.133558</td>\n",
       "      <td>-0.021053</td>\n",
       "      <td>149.62</td>\n",
       "      <td>0</td>\n",
       "    </tr>\n",
       "    <tr>\n",
       "      <th>1</th>\n",
       "      <td>0.0</td>\n",
       "      <td>1.191857</td>\n",
       "      <td>0.266151</td>\n",
       "      <td>0.166480</td>\n",
       "      <td>0.448154</td>\n",
       "      <td>0.060018</td>\n",
       "      <td>-0.082361</td>\n",
       "      <td>-0.078803</td>\n",
       "      <td>0.085102</td>\n",
       "      <td>-0.255425</td>\n",
       "      <td>...</td>\n",
       "      <td>-0.225775</td>\n",
       "      <td>-0.638672</td>\n",
       "      <td>0.101288</td>\n",
       "      <td>-0.339846</td>\n",
       "      <td>0.167170</td>\n",
       "      <td>0.125895</td>\n",
       "      <td>-0.008983</td>\n",
       "      <td>0.014724</td>\n",
       "      <td>2.69</td>\n",
       "      <td>0</td>\n",
       "    </tr>\n",
       "    <tr>\n",
       "      <th>2</th>\n",
       "      <td>1.0</td>\n",
       "      <td>-1.358354</td>\n",
       "      <td>-1.340163</td>\n",
       "      <td>1.773209</td>\n",
       "      <td>0.379780</td>\n",
       "      <td>-0.503198</td>\n",
       "      <td>1.800499</td>\n",
       "      <td>0.791461</td>\n",
       "      <td>0.247676</td>\n",
       "      <td>-1.514654</td>\n",
       "      <td>...</td>\n",
       "      <td>0.247998</td>\n",
       "      <td>0.771679</td>\n",
       "      <td>0.909412</td>\n",
       "      <td>-0.689281</td>\n",
       "      <td>-0.327642</td>\n",
       "      <td>-0.139097</td>\n",
       "      <td>-0.055353</td>\n",
       "      <td>-0.059752</td>\n",
       "      <td>378.66</td>\n",
       "      <td>0</td>\n",
       "    </tr>\n",
       "    <tr>\n",
       "      <th>3</th>\n",
       "      <td>1.0</td>\n",
       "      <td>-0.966272</td>\n",
       "      <td>-0.185226</td>\n",
       "      <td>1.792993</td>\n",
       "      <td>-0.863291</td>\n",
       "      <td>-0.010309</td>\n",
       "      <td>1.247203</td>\n",
       "      <td>0.237609</td>\n",
       "      <td>0.377436</td>\n",
       "      <td>-1.387024</td>\n",
       "      <td>...</td>\n",
       "      <td>-0.108300</td>\n",
       "      <td>0.005274</td>\n",
       "      <td>-0.190321</td>\n",
       "      <td>-1.175575</td>\n",
       "      <td>0.647376</td>\n",
       "      <td>-0.221929</td>\n",
       "      <td>0.062723</td>\n",
       "      <td>0.061458</td>\n",
       "      <td>123.50</td>\n",
       "      <td>0</td>\n",
       "    </tr>\n",
       "    <tr>\n",
       "      <th>4</th>\n",
       "      <td>2.0</td>\n",
       "      <td>-1.158233</td>\n",
       "      <td>0.877737</td>\n",
       "      <td>1.548718</td>\n",
       "      <td>0.403034</td>\n",
       "      <td>-0.407193</td>\n",
       "      <td>0.095921</td>\n",
       "      <td>0.592941</td>\n",
       "      <td>-0.270533</td>\n",
       "      <td>0.817739</td>\n",
       "      <td>...</td>\n",
       "      <td>-0.009431</td>\n",
       "      <td>0.798278</td>\n",
       "      <td>-0.137458</td>\n",
       "      <td>0.141267</td>\n",
       "      <td>-0.206010</td>\n",
       "      <td>0.502292</td>\n",
       "      <td>0.219422</td>\n",
       "      <td>0.215153</td>\n",
       "      <td>69.99</td>\n",
       "      <td>0</td>\n",
       "    </tr>\n",
       "  </tbody>\n",
       "</table>\n",
       "<p>5 rows × 31 columns</p>\n",
       "</div>"
      ],
      "text/plain": [
       "   Time        V1        V2        V3        V4        V5        V6        V7  \\\n",
       "0   0.0 -1.359807 -0.072781  2.536347  1.378155 -0.338321  0.462388  0.239599   \n",
       "1   0.0  1.191857  0.266151  0.166480  0.448154  0.060018 -0.082361 -0.078803   \n",
       "2   1.0 -1.358354 -1.340163  1.773209  0.379780 -0.503198  1.800499  0.791461   \n",
       "3   1.0 -0.966272 -0.185226  1.792993 -0.863291 -0.010309  1.247203  0.237609   \n",
       "4   2.0 -1.158233  0.877737  1.548718  0.403034 -0.407193  0.095921  0.592941   \n",
       "\n",
       "         V8        V9  ...       V21       V22       V23       V24       V25  \\\n",
       "0  0.098698  0.363787  ... -0.018307  0.277838 -0.110474  0.066928  0.128539   \n",
       "1  0.085102 -0.255425  ... -0.225775 -0.638672  0.101288 -0.339846  0.167170   \n",
       "2  0.247676 -1.514654  ...  0.247998  0.771679  0.909412 -0.689281 -0.327642   \n",
       "3  0.377436 -1.387024  ... -0.108300  0.005274 -0.190321 -1.175575  0.647376   \n",
       "4 -0.270533  0.817739  ... -0.009431  0.798278 -0.137458  0.141267 -0.206010   \n",
       "\n",
       "        V26       V27       V28  Amount  Class  \n",
       "0 -0.189115  0.133558 -0.021053  149.62      0  \n",
       "1  0.125895 -0.008983  0.014724    2.69      0  \n",
       "2 -0.139097 -0.055353 -0.059752  378.66      0  \n",
       "3 -0.221929  0.062723  0.061458  123.50      0  \n",
       "4  0.502292  0.219422  0.215153   69.99      0  \n",
       "\n",
       "[5 rows x 31 columns]"
      ]
     },
     "execution_count": 88,
     "metadata": {},
     "output_type": "execute_result"
    }
   ],
   "source": [
    "df.head()"
   ]
  },
  {
   "cell_type": "code",
   "execution_count": 89,
   "metadata": {},
   "outputs": [
    {
     "data": {
      "text/plain": [
       "array(['Time', 'V1', 'V2', 'V3', 'V4', 'V5', 'V6', 'V7', 'V8', 'V9',\n",
       "       'V10', 'V11', 'V12', 'V13', 'V14', 'V15', 'V16', 'V17', 'V18',\n",
       "       'V19', 'V20', 'V21', 'V22', 'V23', 'V24', 'V25', 'V26', 'V27',\n",
       "       'V28', 'Amount', 'Class'], dtype=object)"
      ]
     },
     "execution_count": 89,
     "metadata": {},
     "output_type": "execute_result"
    }
   ],
   "source": [
    "df.columns.values"
   ]
  },
  {
   "cell_type": "code",
   "execution_count": 90,
   "metadata": {},
   "outputs": [],
   "source": [
    "col_name_reorder=['Time','Amount','V1', 'V2', 'V3', 'V4', 'V5', 'V6', 'V7', 'V8', 'V9',\n",
    "       'V10', 'V11', 'V12', 'V13', 'V14', 'V15', 'V16', 'V17', 'V18',\n",
    "       'V19', 'V20', 'V21', 'V22', 'V23', 'V24', 'V25', 'V26', 'V27',\n",
    "       'V28', 'Class']"
   ]
  },
  {
   "cell_type": "code",
   "execution_count": 91,
   "metadata": {},
   "outputs": [],
   "source": [
    "df=df[col_name_reorder]"
   ]
  },
  {
   "cell_type": "code",
   "execution_count": 110,
   "metadata": {},
   "outputs": [
    {
     "data": {
      "text/plain": [
       "array(['Time', 'Amount', 'V1', 'V2', 'V3', 'V4', 'V5', 'V6', 'V7', 'V8',\n",
       "       'V9', 'V10', 'V11', 'V12', 'V13', 'V14', 'V15', 'V16', 'V17',\n",
       "       'V18', 'V19', 'V20', 'V21', 'V22', 'V23', 'V24', 'V25', 'V26',\n",
       "       'V27', 'V28', 'Class', 'bin_var'], dtype=object)"
      ]
     },
     "execution_count": 110,
     "metadata": {},
     "output_type": "execute_result"
    }
   ],
   "source": [
    "df.columns.values"
   ]
  },
  {
   "cell_type": "code",
   "execution_count": 111,
   "metadata": {},
   "outputs": [],
   "source": [
    "#df=df.drop('bin_var',axis=1)"
   ]
  },
  {
   "cell_type": "code",
   "execution_count": 112,
   "metadata": {},
   "outputs": [
    {
     "data": {
      "text/html": [
       "<div>\n",
       "<style scoped>\n",
       "    .dataframe tbody tr th:only-of-type {\n",
       "        vertical-align: middle;\n",
       "    }\n",
       "\n",
       "    .dataframe tbody tr th {\n",
       "        vertical-align: top;\n",
       "    }\n",
       "\n",
       "    .dataframe thead th {\n",
       "        text-align: right;\n",
       "    }\n",
       "</style>\n",
       "<table border=\"1\" class=\"dataframe\">\n",
       "  <thead>\n",
       "    <tr style=\"text-align: right;\">\n",
       "      <th></th>\n",
       "      <th>Time</th>\n",
       "      <th>Amount</th>\n",
       "      <th>V1</th>\n",
       "      <th>V2</th>\n",
       "      <th>V3</th>\n",
       "      <th>V4</th>\n",
       "      <th>V5</th>\n",
       "      <th>V6</th>\n",
       "      <th>V7</th>\n",
       "      <th>V8</th>\n",
       "      <th>...</th>\n",
       "      <th>V20</th>\n",
       "      <th>V21</th>\n",
       "      <th>V22</th>\n",
       "      <th>V23</th>\n",
       "      <th>V24</th>\n",
       "      <th>V25</th>\n",
       "      <th>V26</th>\n",
       "      <th>V27</th>\n",
       "      <th>V28</th>\n",
       "      <th>Class</th>\n",
       "    </tr>\n",
       "  </thead>\n",
       "  <tbody>\n",
       "    <tr>\n",
       "      <th>0</th>\n",
       "      <td>0.0</td>\n",
       "      <td>149.62</td>\n",
       "      <td>-1.359807</td>\n",
       "      <td>-0.072781</td>\n",
       "      <td>2.536347</td>\n",
       "      <td>1.378155</td>\n",
       "      <td>-0.338321</td>\n",
       "      <td>0.462388</td>\n",
       "      <td>0.239599</td>\n",
       "      <td>0.098698</td>\n",
       "      <td>...</td>\n",
       "      <td>0.251412</td>\n",
       "      <td>-0.018307</td>\n",
       "      <td>0.277838</td>\n",
       "      <td>-0.110474</td>\n",
       "      <td>0.066928</td>\n",
       "      <td>0.128539</td>\n",
       "      <td>-0.189115</td>\n",
       "      <td>0.133558</td>\n",
       "      <td>-0.021053</td>\n",
       "      <td>0</td>\n",
       "    </tr>\n",
       "    <tr>\n",
       "      <th>1</th>\n",
       "      <td>0.0</td>\n",
       "      <td>2.69</td>\n",
       "      <td>1.191857</td>\n",
       "      <td>0.266151</td>\n",
       "      <td>0.166480</td>\n",
       "      <td>0.448154</td>\n",
       "      <td>0.060018</td>\n",
       "      <td>-0.082361</td>\n",
       "      <td>-0.078803</td>\n",
       "      <td>0.085102</td>\n",
       "      <td>...</td>\n",
       "      <td>-0.069083</td>\n",
       "      <td>-0.225775</td>\n",
       "      <td>-0.638672</td>\n",
       "      <td>0.101288</td>\n",
       "      <td>-0.339846</td>\n",
       "      <td>0.167170</td>\n",
       "      <td>0.125895</td>\n",
       "      <td>-0.008983</td>\n",
       "      <td>0.014724</td>\n",
       "      <td>0</td>\n",
       "    </tr>\n",
       "    <tr>\n",
       "      <th>2</th>\n",
       "      <td>1.0</td>\n",
       "      <td>378.66</td>\n",
       "      <td>-1.358354</td>\n",
       "      <td>-1.340163</td>\n",
       "      <td>1.773209</td>\n",
       "      <td>0.379780</td>\n",
       "      <td>-0.503198</td>\n",
       "      <td>1.800499</td>\n",
       "      <td>0.791461</td>\n",
       "      <td>0.247676</td>\n",
       "      <td>...</td>\n",
       "      <td>0.524980</td>\n",
       "      <td>0.247998</td>\n",
       "      <td>0.771679</td>\n",
       "      <td>0.909412</td>\n",
       "      <td>-0.689281</td>\n",
       "      <td>-0.327642</td>\n",
       "      <td>-0.139097</td>\n",
       "      <td>-0.055353</td>\n",
       "      <td>-0.059752</td>\n",
       "      <td>0</td>\n",
       "    </tr>\n",
       "    <tr>\n",
       "      <th>3</th>\n",
       "      <td>1.0</td>\n",
       "      <td>123.50</td>\n",
       "      <td>-0.966272</td>\n",
       "      <td>-0.185226</td>\n",
       "      <td>1.792993</td>\n",
       "      <td>-0.863291</td>\n",
       "      <td>-0.010309</td>\n",
       "      <td>1.247203</td>\n",
       "      <td>0.237609</td>\n",
       "      <td>0.377436</td>\n",
       "      <td>...</td>\n",
       "      <td>-0.208038</td>\n",
       "      <td>-0.108300</td>\n",
       "      <td>0.005274</td>\n",
       "      <td>-0.190321</td>\n",
       "      <td>-1.175575</td>\n",
       "      <td>0.647376</td>\n",
       "      <td>-0.221929</td>\n",
       "      <td>0.062723</td>\n",
       "      <td>0.061458</td>\n",
       "      <td>0</td>\n",
       "    </tr>\n",
       "    <tr>\n",
       "      <th>4</th>\n",
       "      <td>2.0</td>\n",
       "      <td>69.99</td>\n",
       "      <td>-1.158233</td>\n",
       "      <td>0.877737</td>\n",
       "      <td>1.548718</td>\n",
       "      <td>0.403034</td>\n",
       "      <td>-0.407193</td>\n",
       "      <td>0.095921</td>\n",
       "      <td>0.592941</td>\n",
       "      <td>-0.270533</td>\n",
       "      <td>...</td>\n",
       "      <td>0.408542</td>\n",
       "      <td>-0.009431</td>\n",
       "      <td>0.798278</td>\n",
       "      <td>-0.137458</td>\n",
       "      <td>0.141267</td>\n",
       "      <td>-0.206010</td>\n",
       "      <td>0.502292</td>\n",
       "      <td>0.219422</td>\n",
       "      <td>0.215153</td>\n",
       "      <td>0</td>\n",
       "    </tr>\n",
       "  </tbody>\n",
       "</table>\n",
       "<p>5 rows × 31 columns</p>\n",
       "</div>"
      ],
      "text/plain": [
       "   Time  Amount        V1        V2        V3        V4        V5        V6  \\\n",
       "0   0.0  149.62 -1.359807 -0.072781  2.536347  1.378155 -0.338321  0.462388   \n",
       "1   0.0    2.69  1.191857  0.266151  0.166480  0.448154  0.060018 -0.082361   \n",
       "2   1.0  378.66 -1.358354 -1.340163  1.773209  0.379780 -0.503198  1.800499   \n",
       "3   1.0  123.50 -0.966272 -0.185226  1.792993 -0.863291 -0.010309  1.247203   \n",
       "4   2.0   69.99 -1.158233  0.877737  1.548718  0.403034 -0.407193  0.095921   \n",
       "\n",
       "         V7        V8  ...       V20       V21       V22       V23       V24  \\\n",
       "0  0.239599  0.098698  ...  0.251412 -0.018307  0.277838 -0.110474  0.066928   \n",
       "1 -0.078803  0.085102  ... -0.069083 -0.225775 -0.638672  0.101288 -0.339846   \n",
       "2  0.791461  0.247676  ...  0.524980  0.247998  0.771679  0.909412 -0.689281   \n",
       "3  0.237609  0.377436  ... -0.208038 -0.108300  0.005274 -0.190321 -1.175575   \n",
       "4  0.592941 -0.270533  ...  0.408542 -0.009431  0.798278 -0.137458  0.141267   \n",
       "\n",
       "        V25       V26       V27       V28  Class  \n",
       "0  0.128539 -0.189115  0.133558 -0.021053      0  \n",
       "1  0.167170  0.125895 -0.008983  0.014724      0  \n",
       "2 -0.327642 -0.139097 -0.055353 -0.059752      0  \n",
       "3  0.647376 -0.221929  0.062723  0.061458      0  \n",
       "4 -0.206010  0.502292  0.219422  0.215153      0  \n",
       "\n",
       "[5 rows x 31 columns]"
      ]
     },
     "execution_count": 112,
     "metadata": {},
     "output_type": "execute_result"
    }
   ],
   "source": [
    "df.head()"
   ]
  },
  {
   "cell_type": "code",
   "execution_count": 113,
   "metadata": {},
   "outputs": [],
   "source": [
    "from sklearn.model_selection import train_test_split \n",
    "from sklearn.metrics import accuracy_score,classification_report,confusion_matrix\n",
    "import matplotlib.pyplot as plt\n",
    "import seaborn as sns\n",
    "from imblearn.under_sampling import NearMiss\n",
    "from collections import Counter\n",
    "from sklearn.preprocessing import StandardScaler\n",
    "from sklearn.linear_model import LogisticRegression\n",
    "from sklearn.metrics import plot_confusion_matrix\n",
    "import statsmodels.api as sm\n",
    "from sklearn.neighbors import KNeighborsClassifier"
   ]
  },
  {
   "cell_type": "code",
   "execution_count": 114,
   "metadata": {},
   "outputs": [
    {
     "name": "stdout",
     "output_type": "stream",
     "text": [
      "inf , V4 ,type = float64\n",
      "inf , Class ,type = int64\n",
      "3.78 , V14 ,type = float64\n",
      "3.211 , V12 ,type = float64\n",
      "3.052 , V17 ,type = float64\n",
      "2.968 , V10 ,type = float64\n",
      "2.869 , V11 ,type = float64\n",
      "2.742 , V3 ,type = float64\n",
      "2.521 , V16 ,type = float64\n",
      "2.274 , V7 ,type = float64\n",
      "2.195 , V2 ,type = float64\n",
      "1.859 , V21 ,type = float64\n",
      "1.783 , V9 ,type = float64\n",
      "1.657 , V27 ,type = float64\n",
      "1.527 , V1 ,type = float64\n",
      "1.426 , V18 ,type = float64\n",
      "1.353 , V28 ,type = float64\n",
      "1.232 , V6 ,type = float64\n",
      "1.059 , V8 ,type = float64\n",
      "1.058 , V5 ,type = float64\n",
      "0.848 , V20 ,type = float64\n",
      "0.811 , V19 ,type = float64\n",
      "0.683 , Amount ,type = float64\n",
      "0.476 , V23 ,type = float64\n",
      "0.244 , Time ,type = float64\n",
      "0.157 , V26 ,type = float64\n",
      "0.154 , V24 ,type = float64\n",
      "0.108 , V25 ,type = float64\n",
      "0.073 , V13 ,type = float64\n",
      "0.065 , V15 ,type = float64\n",
      "0.048 , V22 ,type = float64\n"
     ]
    }
   ],
   "source": [
    "# If Categorial Data - Categorial_Data_columns =[] which would be added to Total Columns\n",
    "continuous_column=['Time', 'Amount', 'V1', 'V2', 'V3', 'V4', 'V5', 'V6', 'V7', 'V8',\n",
    "       'V9', 'V10', 'V11', 'V12', 'V13', 'V14', 'V15', 'V16', 'V17',\n",
    "       'V18', 'V19', 'V20', 'V21', 'V22', 'V23', 'V24', 'V25', 'V26',\n",
    "       'V27', 'V28', 'Class']\n",
    "total_columns = continuous_column # + Categorial_Data_columns\n",
    "def IV_calc(data,var): \n",
    "    if data[var].dtypes == \"object\": \n",
    "        dataf = data.groupby([var])['Class'].agg(['count','sum']) \n",
    "        dataf.columns = [\"Total\",\"bad\"] \n",
    "        dataf[\"good\"] = dataf[\"Total\"] - dataf[\"bad\"] \n",
    "        dataf[\"bad_per\"] = dataf[\"bad\"]/dataf[\"bad\"].sum()\n",
    "        dataf[\"good_per\"] = dataf[\"good\"]/dataf[\"good\"].sum() \n",
    "        dataf[\"I_V\"] = (dataf[\"good_per\"] - dataf[\"bad_per\"]) * np.log(dataf[\"good_per\"]/dataf[\"bad_per\"]) \n",
    "        return dataf \n",
    "    else: \n",
    "        data['bin_var'] = pd.qcut(data[var].rank(method='first'),10)\n",
    "        dataf = data.groupby(['bin_var'])['Class'].agg(['count','sum']) \n",
    "        dataf.columns = [\"Total\",\"bad\"] \n",
    "        dataf[\"good\"] = dataf[\"Total\"] - dataf[\"bad\"] \n",
    "        dataf[\"bad_per\"] = dataf[\"bad\"]/dataf[\"bad\"].sum() \n",
    "        dataf[\"good_per\"] = dataf[\"good\"]/dataf[\"good\"].sum() \n",
    "        dataf[\"I_V\"] = (dataf[\"good_per\"] - dataf[\"bad_per\"]) * np.log(dataf[\"good_per\"]/dataf[\"bad_per\"]) \n",
    "        return dataf \n",
    "Iv_list = [] \n",
    "for col in total_columns: \n",
    "    assigned_data = IV_calc(data = df,var = col)\n",
    "    iv_val = round(assigned_data[\"I_V\"].sum(),3) \n",
    "    dt_type = df[col].dtypes\n",
    "    Iv_list.append((iv_val,col,dt_type))\n",
    "Iv_list = sorted(Iv_list,reverse = True)\n",
    "for i in range(len(Iv_list)): \n",
    "        print (Iv_list[i][0],\",\",Iv_list[i][1],\",type =\",Iv_list[i][2])\n"
   ]
  },
  {
   "cell_type": "markdown",
   "metadata": {},
   "source": [
    "*In the following output, all the variables with an information value are shown in descending order. After the information value, variable name, and the type of the variable have also been shown. If the type is object, this means that it is a categorical variable; similarly, if type is float64 this means it is a 64-bit float value. We will be considering the top XX variables for the next stage of analysis.*"
   ]
  },
  {
   "cell_type": "code",
   "execution_count": 115,
   "metadata": {},
   "outputs": [],
   "source": [
    "Unsacled_data=df.iloc[:,0:30]"
   ]
  },
  {
   "cell_type": "code",
   "execution_count": 118,
   "metadata": {},
   "outputs": [
    {
     "data": {
      "text/plain": [
       "array(['Time', 'Amount', 'V1', 'V2', 'V3', 'V4', 'V5', 'V6', 'V7', 'V8',\n",
       "       'V9', 'V10', 'V11', 'V12', 'V13', 'V14', 'V15', 'V16', 'V17',\n",
       "       'V18', 'V19', 'V20', 'V21', 'V22', 'V23', 'V24', 'V25', 'V26',\n",
       "       'V27', 'V28', 'Class'], dtype=object)"
      ]
     },
     "execution_count": 118,
     "metadata": {},
     "output_type": "execute_result"
    }
   ],
   "source": [
    "df.columns.values"
   ]
  },
  {
   "cell_type": "code",
   "execution_count": 117,
   "metadata": {},
   "outputs": [],
   "source": [
    "df=df.drop('bin_var',axis=1)"
   ]
  },
  {
   "cell_type": "code",
   "execution_count": 119,
   "metadata": {},
   "outputs": [],
   "source": [
    "# Slipting the dependent variable(X) and Independent Variables(y)\n",
    "X=df.iloc[:,0:30].values\n",
    "y=df.iloc[:,-1].values"
   ]
  },
  {
   "cell_type": "code",
   "execution_count": 120,
   "metadata": {},
   "outputs": [
    {
     "name": "stdout",
     "output_type": "stream",
     "text": [
      "(284807, 30) (284807,)\n"
     ]
    }
   ],
   "source": [
    "print(X.shape,y.shape)"
   ]
  },
  {
   "cell_type": "code",
   "execution_count": 121,
   "metadata": {},
   "outputs": [
    {
     "name": "stdout",
     "output_type": "stream",
     "text": [
      "Original dataset shapeCounter({0: 284315, 1: 492})\n",
      "Resample dataset shapeCounter({0: 492, 1: 492})\n"
     ]
    },
    {
     "data": {
      "text/plain": [
       "((984, 30), (984,))"
      ]
     },
     "execution_count": 121,
     "metadata": {},
     "output_type": "execute_result"
    }
   ],
   "source": [
    "# Balancing the sample dataset\n",
    "from imblearn.under_sampling import NearMiss\n",
    "from collections import Counter\n",
    "NM=NearMiss()\n",
    "X_res,y_res=NM.fit_sample(X,y)\n",
    "print('Original dataset shape{}'.format(Counter(y)))\n",
    "print('Resample dataset shape{}'.format(Counter(y_res)))\n",
    "X_res.shape,y_res.shape"
   ]
  },
  {
   "cell_type": "markdown",
   "metadata": {},
   "source": [
    "# Split Data in train and test after doing DownSampling using NearMiss function\n",
    "# then we will Scale the data/Normalize the data"
   ]
  },
  {
   "cell_type": "code",
   "execution_count": 122,
   "metadata": {},
   "outputs": [],
   "source": [
    "X_train,X_test,y_train,y_test=train_test_split(X_res,y_res,test_size=0.20,random_state=42)\n",
    "scaler=StandardScaler()\n",
    "X_train=scaler.fit_transform(X_train)\n",
    "X_test=scaler.transform(X_test)"
   ]
  },
  {
   "cell_type": "code",
   "execution_count": 128,
   "metadata": {},
   "outputs": [
    {
     "name": "stdout",
     "output_type": "stream",
     "text": [
      "Optimization terminated successfully.\n",
      "         Current function value: 0.081358\n",
      "         Iterations 29\n",
      "\n",
      " \n",
      "                            Logit Regression Results                           \n",
      "==============================================================================\n",
      "Dep. Variable:                      y   No. Observations:                  787\n",
      "Model:                          Logit   Df Residuals:                      756\n",
      "Method:                           MLE   Df Model:                           30\n",
      "Date:                Tue, 05 May 2020   Pseudo R-squ.:                  0.8826\n",
      "Time:                        13:02:25   Log-Likelihood:                -64.029\n",
      "converged:                       True   LL-Null:                       -545.51\n",
      "Covariance Type:            nonrobust   LLR p-value:                3.353e-183\n",
      "==============================================================================\n",
      "                 coef    std err          z      P>|z|      [0.025      0.975]\n",
      "------------------------------------------------------------------------------\n",
      "const       6151.7392        nan        nan        nan         nan         nan\n",
      "x1            -1.2237      0.441     -2.775      0.006      -2.088      -0.359\n",
      "x2           195.7648        nan        nan        nan         nan         nan\n",
      "x3           115.0905        nan        nan        nan         nan         nan\n",
      "x4           533.7253        nan        nan        nan         nan         nan\n",
      "x5          -389.0343        nan        nan        nan         nan         nan\n",
      "x6           163.5759        nan        nan        nan         nan         nan\n",
      "x7            12.6363        nan        nan        nan         nan         nan\n",
      "x8          -113.9333        nan        nan        nan         nan         nan\n",
      "x9         -1424.0003        nan        nan        nan         nan         nan\n",
      "x10          198.4960        nan        nan        nan         nan         nan\n",
      "x11         -177.9938        nan        nan        nan         nan         nan\n",
      "x12         -799.8489        nan        nan        nan         nan         nan\n",
      "x13          401.9282        nan        nan        nan         nan         nan\n",
      "x14        -1208.4792        nan        nan        nan         nan         nan\n",
      "x15           -7.0960        nan        nan        nan         nan         nan\n",
      "x16        -1322.4358        nan        nan        nan         nan         nan\n",
      "x17           -9.9899        nan        nan        nan         nan         nan\n",
      "x18         -869.8983        nan        nan        nan         nan         nan\n",
      "x19        -2623.6001        nan        nan        nan         nan         nan\n",
      "x20         -396.8475        nan        nan        nan         nan         nan\n",
      "x21           87.2364        nan        nan        nan         nan         nan\n",
      "x22          -51.5781        nan        nan        nan         nan         nan\n",
      "x23           31.8404        nan        nan        nan         nan         nan\n",
      "x24           35.8549        nan        nan        nan         nan         nan\n",
      "x25          100.8068        nan        nan        nan         nan         nan\n",
      "x26           -4.6674        nan        nan        nan         nan         nan\n",
      "x27           27.2717        nan        nan        nan         nan         nan\n",
      "x28            4.4485        nan        nan        nan         nan         nan\n",
      "x29           34.2431        nan        nan        nan         nan         nan\n",
      "x30           45.4871        nan        nan        nan         nan         nan\n",
      "==============================================================================\n",
      "\n",
      "Possibly complete quasi-separation: A fraction 0.57 of observations can be\n",
      "perfectly predicted. This might indicate that there is complete\n",
      "quasi-separation. In this case some parameters will not be identified.\n"
     ]
    }
   ],
   "source": [
    "x=sm.add_constant(X_train)\n",
    "reg_log=sm.Logit(y_train,x)\n",
    "r_log=reg_log.fit()\n",
    "print (\"\\n \\n\",r_log.summary())"
   ]
  },
  {
   "cell_type": "code",
   "execution_count": 129,
   "metadata": {},
   "outputs": [],
   "source": [
    "model=LogisticRegression()\n",
    "model.fit(X_train,y_train)\n",
    "y_pred=model.predict(X_train)\n",
    "y_pred_test=model.predict(X_test)"
   ]
  },
  {
   "cell_type": "code",
   "execution_count": 130,
   "metadata": {},
   "outputs": [
    {
     "data": {
      "text/plain": [
       "0.9606099110546379"
      ]
     },
     "execution_count": 130,
     "metadata": {},
     "output_type": "execute_result"
    }
   ],
   "source": [
    "Train_Accuracy=accuracy_score(y_train,y_pred)\n",
    "Train_Accuracy"
   ]
  },
  {
   "cell_type": "code",
   "execution_count": 131,
   "metadata": {},
   "outputs": [
    {
     "data": {
      "text/plain": [
       "0.949238578680203"
      ]
     },
     "execution_count": 131,
     "metadata": {},
     "output_type": "execute_result"
    }
   ],
   "source": [
    "Test_Accuracy=accuracy_score(y_test,y_pred_test)\n",
    "Test_Accuracy"
   ]
  },
  {
   "cell_type": "code",
   "execution_count": 132,
   "metadata": {},
   "outputs": [
    {
     "data": {
      "text/plain": [
       "<matplotlib.legend.Legend at 0x7f5e7df2e790>"
      ]
     },
     "execution_count": 132,
     "metadata": {},
     "output_type": "execute_result"
    },
    {
     "data": {
      "image/png": "[encoded data removed]",
      "text/plain": [
       "<Figure size 432x288 with 1 Axes>"
      ]
     },
     "metadata": {
      "needs_background": "light"
     },
     "output_type": "display_data"
    }
   ],
   "source": [
    "from sklearn import metrics \n",
    "from sklearn.metrics import auc \n",
    "fpr, tpr, thresholds = metrics.roc_curve(y_test,y_pred_test, pos_label=1)\n",
    "roc_auc = auc(fpr,tpr) \n",
    "plt.figure() \n",
    "lw = 2 \n",
    "plt.plot(fpr, tpr, color='darkorange', lw=lw, label='ROC curve (area = %0.2f)' % roc_auc) \n",
    "plt.plot([0, 1], [0, 1], color='navy', lw=lw, linestyle='--') \n",
    "plt.xlim([0.0, 1.0])\n",
    "plt.ylim([0.0, 1.05]) \n",
    "plt.xlabel('False Positive Rate (1-Specificity)') \n",
    "plt.ylabel('True Positive Rate')\n",
    "plt.title('ROC Curve -  Credit Data') \n",
    "plt.legend(loc=\"lower right\")"
   ]
  },
  {
   "cell_type": "code",
   "execution_count": 133,
   "metadata": {},
   "outputs": [
    {
     "data": {
      "image/png": "[encoded data removed]",
      "text/plain": [
       "<Figure size 432x288 with 2 Axes>"
      ]
     },
     "metadata": {
      "needs_background": "light"
     },
     "output_type": "display_data"
    }
   ],
   "source": [
    "class_names=np.unique(y_res)\n",
    "class_names\n",
    "plot_confusion_matrix(model,X_test,y_test,\n",
    "                     display_labels=class_names,\n",
    "                     cmap=plt.cm.autumn);"
   ]
  },
  {
   "cell_type": "code",
   "execution_count": 134,
   "metadata": {},
   "outputs": [
    {
     "data": {
      "text/plain": [
       "array([3.68647134])"
      ]
     },
     "execution_count": 134,
     "metadata": {},
     "output_type": "execute_result"
    }
   ],
   "source": [
    "model.intercept_"
   ]
  },
  {
   "cell_type": "code",
   "execution_count": 135,
   "metadata": {},
   "outputs": [
    {
     "data": {
      "text/plain": [
       "array([[-0.54436809,  2.67938252,  0.27033852, -0.5701573 , -0.82547582,\n",
       "         2.03016608,  0.08420375, -0.22212889, -0.21853269, -1.08399168,\n",
       "        -0.45428366, -1.11676936,  0.20454689, -1.10284955, -0.39887615,\n",
       "        -2.9956985 , -0.31388329, -0.39666259, -0.19077481,  0.21899543,\n",
       "         0.13865121, -0.22104975,  0.41722209,  0.56084931,  0.13778584,\n",
       "         0.04276552, -0.03536792, -0.08810202, -0.02622043,  0.2091701 ]])"
      ]
     },
     "execution_count": 135,
     "metadata": {},
     "output_type": "execute_result"
    }
   ],
   "source": [
    "model.coef_"
   ]
  },
  {
   "cell_type": "code",
   "execution_count": 136,
   "metadata": {},
   "outputs": [],
   "source": [
    "cloumns=['Time', 'V1', 'V2', 'V3', 'V4', 'V5', 'V6', 'V7', 'V8', 'V9',\n",
    "       'V10', 'V11', 'V12', 'V13', 'V14', 'V15', 'V16', 'V17', 'V18',\n",
    "       'V19', 'V20', 'V21', 'V22', 'V23', 'V24', 'V25', 'V26', 'V27',\n",
    "       'V28', 'Amount']\n",
    "feature_name=Unsacled_data.columns.values"
   ]
  },
  {
   "cell_type": "code",
   "execution_count": 137,
   "metadata": {},
   "outputs": [
    {
     "data": {
      "text/html": [
       "<div>\n",
       "<style scoped>\n",
       "    .dataframe tbody tr th:only-of-type {\n",
       "        vertical-align: middle;\n",
       "    }\n",
       "\n",
       "    .dataframe tbody tr th {\n",
       "        vertical-align: top;\n",
       "    }\n",
       "\n",
       "    .dataframe thead th {\n",
       "        text-align: right;\n",
       "    }\n",
       "</style>\n",
       "<table border=\"1\" class=\"dataframe\">\n",
       "  <thead>\n",
       "    <tr style=\"text-align: right;\">\n",
       "      <th></th>\n",
       "      <th>Feature Name</th>\n",
       "      <th>Coefficient</th>\n",
       "      <th>Odds Ratio</th>\n",
       "    </tr>\n",
       "  </thead>\n",
       "  <tbody>\n",
       "    <tr>\n",
       "      <th>0</th>\n",
       "      <td>Intercept</td>\n",
       "      <td>3.686471</td>\n",
       "      <td>39.903791</td>\n",
       "    </tr>\n",
       "    <tr>\n",
       "      <th>2</th>\n",
       "      <td>Amount</td>\n",
       "      <td>2.679383</td>\n",
       "      <td>14.576090</td>\n",
       "    </tr>\n",
       "    <tr>\n",
       "      <th>6</th>\n",
       "      <td>V4</td>\n",
       "      <td>2.030166</td>\n",
       "      <td>7.615351</td>\n",
       "    </tr>\n",
       "    <tr>\n",
       "      <th>24</th>\n",
       "      <td>V22</td>\n",
       "      <td>0.560849</td>\n",
       "      <td>1.752160</td>\n",
       "    </tr>\n",
       "    <tr>\n",
       "      <th>23</th>\n",
       "      <td>V21</td>\n",
       "      <td>0.417222</td>\n",
       "      <td>1.517740</td>\n",
       "    </tr>\n",
       "    <tr>\n",
       "      <th>3</th>\n",
       "      <td>V1</td>\n",
       "      <td>0.270339</td>\n",
       "      <td>1.310408</td>\n",
       "    </tr>\n",
       "    <tr>\n",
       "      <th>20</th>\n",
       "      <td>V18</td>\n",
       "      <td>0.218995</td>\n",
       "      <td>1.244826</td>\n",
       "    </tr>\n",
       "    <tr>\n",
       "      <th>30</th>\n",
       "      <td>V28</td>\n",
       "      <td>0.209170</td>\n",
       "      <td>1.232655</td>\n",
       "    </tr>\n",
       "    <tr>\n",
       "      <th>13</th>\n",
       "      <td>V11</td>\n",
       "      <td>0.204547</td>\n",
       "      <td>1.226969</td>\n",
       "    </tr>\n",
       "    <tr>\n",
       "      <th>21</th>\n",
       "      <td>V19</td>\n",
       "      <td>0.138651</td>\n",
       "      <td>1.148723</td>\n",
       "    </tr>\n",
       "    <tr>\n",
       "      <th>25</th>\n",
       "      <td>V23</td>\n",
       "      <td>0.137786</td>\n",
       "      <td>1.147730</td>\n",
       "    </tr>\n",
       "    <tr>\n",
       "      <th>7</th>\n",
       "      <td>V5</td>\n",
       "      <td>0.084204</td>\n",
       "      <td>1.087851</td>\n",
       "    </tr>\n",
       "    <tr>\n",
       "      <th>26</th>\n",
       "      <td>V24</td>\n",
       "      <td>0.042766</td>\n",
       "      <td>1.043693</td>\n",
       "    </tr>\n",
       "    <tr>\n",
       "      <th>29</th>\n",
       "      <td>V27</td>\n",
       "      <td>-0.026220</td>\n",
       "      <td>0.974120</td>\n",
       "    </tr>\n",
       "    <tr>\n",
       "      <th>27</th>\n",
       "      <td>V25</td>\n",
       "      <td>-0.035368</td>\n",
       "      <td>0.965250</td>\n",
       "    </tr>\n",
       "    <tr>\n",
       "      <th>28</th>\n",
       "      <td>V26</td>\n",
       "      <td>-0.088102</td>\n",
       "      <td>0.915667</td>\n",
       "    </tr>\n",
       "    <tr>\n",
       "      <th>19</th>\n",
       "      <td>V17</td>\n",
       "      <td>-0.190775</td>\n",
       "      <td>0.826319</td>\n",
       "    </tr>\n",
       "    <tr>\n",
       "      <th>9</th>\n",
       "      <td>V7</td>\n",
       "      <td>-0.218533</td>\n",
       "      <td>0.803697</td>\n",
       "    </tr>\n",
       "    <tr>\n",
       "      <th>22</th>\n",
       "      <td>V20</td>\n",
       "      <td>-0.221050</td>\n",
       "      <td>0.801677</td>\n",
       "    </tr>\n",
       "    <tr>\n",
       "      <th>8</th>\n",
       "      <td>V6</td>\n",
       "      <td>-0.222129</td>\n",
       "      <td>0.800812</td>\n",
       "    </tr>\n",
       "    <tr>\n",
       "      <th>17</th>\n",
       "      <td>V15</td>\n",
       "      <td>-0.313883</td>\n",
       "      <td>0.730604</td>\n",
       "    </tr>\n",
       "    <tr>\n",
       "      <th>18</th>\n",
       "      <td>V16</td>\n",
       "      <td>-0.396663</td>\n",
       "      <td>0.672561</td>\n",
       "    </tr>\n",
       "    <tr>\n",
       "      <th>15</th>\n",
       "      <td>V13</td>\n",
       "      <td>-0.398876</td>\n",
       "      <td>0.671074</td>\n",
       "    </tr>\n",
       "    <tr>\n",
       "      <th>11</th>\n",
       "      <td>V9</td>\n",
       "      <td>-0.454284</td>\n",
       "      <td>0.634903</td>\n",
       "    </tr>\n",
       "    <tr>\n",
       "      <th>1</th>\n",
       "      <td>Time</td>\n",
       "      <td>-0.544368</td>\n",
       "      <td>0.580208</td>\n",
       "    </tr>\n",
       "    <tr>\n",
       "      <th>4</th>\n",
       "      <td>V2</td>\n",
       "      <td>-0.570157</td>\n",
       "      <td>0.565436</td>\n",
       "    </tr>\n",
       "    <tr>\n",
       "      <th>5</th>\n",
       "      <td>V3</td>\n",
       "      <td>-0.825476</td>\n",
       "      <td>0.438027</td>\n",
       "    </tr>\n",
       "    <tr>\n",
       "      <th>10</th>\n",
       "      <td>V8</td>\n",
       "      <td>-1.083992</td>\n",
       "      <td>0.338243</td>\n",
       "    </tr>\n",
       "    <tr>\n",
       "      <th>14</th>\n",
       "      <td>V12</td>\n",
       "      <td>-1.102850</td>\n",
       "      <td>0.331924</td>\n",
       "    </tr>\n",
       "    <tr>\n",
       "      <th>12</th>\n",
       "      <td>V10</td>\n",
       "      <td>-1.116769</td>\n",
       "      <td>0.327336</td>\n",
       "    </tr>\n",
       "    <tr>\n",
       "      <th>16</th>\n",
       "      <td>V14</td>\n",
       "      <td>-2.995698</td>\n",
       "      <td>0.050002</td>\n",
       "    </tr>\n",
       "  </tbody>\n",
       "</table>\n",
       "</div>"
      ],
      "text/plain": [
       "   Feature Name  Coefficient  Odds Ratio\n",
       "0     Intercept     3.686471   39.903791\n",
       "2        Amount     2.679383   14.576090\n",
       "6            V4     2.030166    7.615351\n",
       "24          V22     0.560849    1.752160\n",
       "23          V21     0.417222    1.517740\n",
       "3            V1     0.270339    1.310408\n",
       "20          V18     0.218995    1.244826\n",
       "30          V28     0.209170    1.232655\n",
       "13          V11     0.204547    1.226969\n",
       "21          V19     0.138651    1.148723\n",
       "25          V23     0.137786    1.147730\n",
       "7            V5     0.084204    1.087851\n",
       "26          V24     0.042766    1.043693\n",
       "29          V27    -0.026220    0.974120\n",
       "27          V25    -0.035368    0.965250\n",
       "28          V26    -0.088102    0.915667\n",
       "19          V17    -0.190775    0.826319\n",
       "9            V7    -0.218533    0.803697\n",
       "22          V20    -0.221050    0.801677\n",
       "8            V6    -0.222129    0.800812\n",
       "17          V15    -0.313883    0.730604\n",
       "18          V16    -0.396663    0.672561\n",
       "15          V13    -0.398876    0.671074\n",
       "11           V9    -0.454284    0.634903\n",
       "1          Time    -0.544368    0.580208\n",
       "4            V2    -0.570157    0.565436\n",
       "5            V3    -0.825476    0.438027\n",
       "10           V8    -1.083992    0.338243\n",
       "14          V12    -1.102850    0.331924\n",
       "12          V10    -1.116769    0.327336\n",
       "16          V14    -2.995698    0.050002"
      ]
     },
     "execution_count": 137,
     "metadata": {},
     "output_type": "execute_result"
    }
   ],
   "source": [
    "Summary_Table=pd.DataFrame(columns=['Feature Name'], data = feature_name)\n",
    "Summary_Table['Coefficient']=np.transpose(model.coef_)\n",
    "Summary_Table.index=Summary_Table.index + 1\n",
    "Summary_Table.loc[0]=['Intercept', model.intercept_[0]]\n",
    "Summary_Table=Summary_Table.sort_index()\n",
    "Summary_Table['Odds Ratio']=np.exp(Summary_Table.Coefficient)\n",
    "Summary_Table.sort_values('Odds Ratio',ascending=False)"
   ]
  },
  {
   "cell_type": "code",
   "execution_count": 138,
   "metadata": {},
   "outputs": [
    {
     "name": "stdout",
     "output_type": "stream",
     "text": [
      "Test Data Set\n",
      "              precision    recall  f1-score   support\n",
      "\n",
      "           0       0.92      0.98      0.95        99\n",
      "           1       0.98      0.92      0.95        98\n",
      "\n",
      "    accuracy                           0.95       197\n",
      "   macro avg       0.95      0.95      0.95       197\n",
      "weighted avg       0.95      0.95      0.95       197\n",
      "\n",
      "-----------------------------------------------------------------\n",
      "Train Data Set\n",
      "              precision    recall  f1-score   support\n",
      "\n",
      "           0       0.94      0.99      0.96       393\n",
      "           1       0.99      0.93      0.96       394\n",
      "\n",
      "    accuracy                           0.96       787\n",
      "   macro avg       0.96      0.96      0.96       787\n",
      "weighted avg       0.96      0.96      0.96       787\n",
      "\n"
     ]
    }
   ],
   "source": [
    "print('Test Data Set')\n",
    "print(classification_report(y_test,model.predict(X_test)))\n",
    "print('-----------------------------------------------------------------')\n",
    "print('Train Data Set')\n",
    "print(classification_report(y_train,model.predict(X_train)))"
   ]
  },
  {
   "cell_type": "markdown",
   "metadata": {},
   "source": [
    "# By analysing the above summary table, we can remove Feature V5,V24,V27,V25 & V26 as Odds Ratio is nearly equal to one and in turn it will not hamper our model accuracy."
   ]
  },
  {
   "cell_type": "code",
   "execution_count": null,
   "metadata": {},
   "outputs": [],
   "source": []
  }
 ],
 "metadata": {
  "kernelspec": {
   "display_name": "Python 3",
   "language": "python",
   "name": "python3"
  },
  "language_info": {
   "codemirror_mode": {
    "name": "ipython",
    "version": 3
   },
   "file_extension": ".py",
   "mimetype": "text/x-python",
   "name": "python",
   "nbconvert_exporter": "python",
   "pygments_lexer": "ipython3",
   "version": "3.7.3"
  }
 },
 "nbformat": 4,
 "nbformat_minor": 4
}
